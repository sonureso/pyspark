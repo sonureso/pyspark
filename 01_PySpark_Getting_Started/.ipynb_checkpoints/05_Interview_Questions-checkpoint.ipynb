{
 "cells": [
  {
   "cell_type": "code",
   "execution_count": 1,
   "metadata": {},
   "outputs": [],
   "source": [
    "!pip install -q findspark\n",
    "import findspark\n",
    "findspark.init()\n",
    "\n",
    "from pyspark.sql import SparkSession\n",
    "spark = SparkSession.builder.master(\"local[*]\").getOrCreate()\n",
    "from pyspark.sql.types import StructType,StructField, StringType, IntegerType, DoubleType"
   ]
  },
  {
   "cell_type": "markdown",
   "metadata": {},
   "source": [
    "# 01_Reading_sample_Data"
   ]
  },
  {
   "cell_type": "code",
   "execution_count": 4,
   "metadata": {},
   "outputs": [],
   "source": [
    "def get_schema(d):\n",
    "    new_schema = StructType()\n",
    "    for key, value in d.items():\n",
    "        new_schema.add(key,value,True)\n",
    "    return new_schema\n",
    "\n",
    "d = {'year':IntegerType(),'imdb':StringType(),'title':StringType(),'test':StringType(),'clean_test':StringType(),\n",
    "    'binary':StringType(),'budget':DoubleType(),'domgross':StringType(),'intgross':StringType(),'code':StringType(),\n",
    "    'budget_2013$':DoubleType(),'domgross_2013$':StringType(),'intgross_2013$':StringType(),'period code':IntegerType(),\n",
    "    'decade code':IntegerType()}\n",
    "df=spark.read.csv(\"movies.csv\",header=True,schema=get_schema(d))\n",
    "df = df.toDF(*[col.replace(' ','_').replace(':','').replace('-','_').replace('$','') for col in df.columns])"
   ]
  },
  {
   "cell_type": "markdown",
   "metadata": {},
   "source": [
    "# 02_Questions"
   ]
  },
  {
   "cell_type": "markdown",
   "metadata": {},
   "source": [
    "1. Initial Syntax for creating a sample dataframe.\n",
    "2. How to add a new column.\n",
    "3. How to rename a column.\n",
    "4. How to find the max, min, avg of a column in that DF"
   ]
  },
  {
   "cell_type": "code",
   "execution_count": 34,
   "metadata": {},
   "outputs": [],
   "source": [
    "#1. Initial Syntax for creating a sample dataframe. \n",
    "from pyspark.sql import SparkSession\n",
    "spark = SparkSession.builder.master(\"local[*]\").getOrCreate()\n",
    "from pyspark.sql.types import StructType,StructField, StringType, IntegerType, DoubleType"
   ]
  },
  {
   "cell_type": "code",
   "execution_count": 24,
   "metadata": {},
   "outputs": [
    {
     "name": "stdout",
     "output_type": "stream",
     "text": [
      "root\n",
      " |-- firstname: string (nullable = true)\n",
      " |-- middlename: string (nullable = true)\n",
      " |-- lastname2: string (nullable = true)\n",
      " |-- id: string (nullable = true)\n",
      " |-- gender: string (nullable = true)\n",
      " |-- salary: long (nullable = true)\n",
      "\n"
     ]
    }
   ],
   "source": [
    "#1. Initial Syntax for creating a sample dataframe. \n",
    "data2 = [(\"James\",\"\",\"Smith\",\"36636\",\"M\",3000),\n",
    "    (\"Michael\",\"Rose\",\"\",\"40288\",\"M\",4000),\n",
    "    (\"Robert\",\"\",\"Williams\",\"42114\",\"M\",4000),\n",
    "    (\"Maria\",\"Anne\",\"Jones\",\"39192\",\"F\",4000),\n",
    "    (\"Jen\",\"Mary\",\"Brown\",\"\",\"F\",-1)\n",
    "  ]\n",
    "columns = [\"firstname\",\"middlename\",\"lastname2\",\"id\",\"gender\",\"salary\"]\n",
    "df = spark.createDataFrame(data2,columns)\n",
    "df.printSchema()"
   ]
  },
  {
   "cell_type": "code",
   "execution_count": 25,
   "metadata": {},
   "outputs": [
    {
     "name": "stdout",
     "output_type": "stream",
     "text": [
      "root\n",
      " |-- firstname: string (nullable = true)\n",
      " |-- middlename: string (nullable = true)\n",
      " |-- lastname: string (nullable = true)\n",
      " |-- id: string (nullable = true)\n",
      " |-- gender: string (nullable = true)\n",
      " |-- salary: integer (nullable = true)\n",
      "\n"
     ]
    }
   ],
   "source": [
    "#OR we can use schema:\n",
    "schema = StructType([ \\\n",
    "    StructField(\"firstname\",StringType(),True), \\\n",
    "    StructField(\"middlename\",StringType(),True), \\\n",
    "    StructField(\"lastname\",StringType(),True), \\\n",
    "    StructField(\"id\", StringType(), True), \\\n",
    "    StructField(\"gender\", StringType(), True), \\\n",
    "    StructField(\"salary\", IntegerType(), True) \\\n",
    "  ])\n",
    "df = spark.createDataFrame(data=data2,schema=schema)\n",
    "df.printSchema()"
   ]
  },
  {
   "cell_type": "code",
   "execution_count": 36,
   "metadata": {},
   "outputs": [
    {
     "name": "stdout",
     "output_type": "stream",
     "text": [
      "root\n",
      " |-- firstname: string (nullable = true)\n",
      " |-- middlename: string (nullable = true)\n",
      " |-- lastname: string (nullable = true)\n",
      " |-- id: string (nullable = true)\n",
      " |-- gender: string (nullable = true)\n",
      " |-- salary: integer (nullable = true)\n",
      "\n",
      "+---------+----------+--------+-----+------+------+\n",
      "|firstname|middlename|lastname|   id|gender|salary|\n",
      "+---------+----------+--------+-----+------+------+\n",
      "|    James|          |   Smith|36636|     M|3000.0|\n",
      "|  Michael|      Rose|        |40288|     M|4000.0|\n",
      "+---------+----------+--------+-----+------+------+\n",
      "only showing top 2 rows\n",
      "\n"
     ]
    }
   ],
   "source": [
    "df.printSchema()\n",
    "df.withColumn('salary',df.salary.cast(DoubleType())).show(2)"
   ]
  },
  {
   "cell_type": "code",
   "execution_count": 8,
   "metadata": {},
   "outputs": [
    {
     "name": "stdout",
     "output_type": "stream",
     "text": [
      "+----+---------+----------------+---------------+----------+------+------+--------+---------+--------+-----------+-------------+-------------+-----------+-----------+-----+\n",
      "|year|     imdb|           title|           test|clean_test|binary|budget|domgross| intgross|    code|budget_2013|domgross_2013|intgross_2013|period_code|decade_code|year2|\n",
      "+----+---------+----------------+---------------+----------+------+------+--------+---------+--------+-----------+-------------+-------------+-----------+-----------+-----+\n",
      "|2013|tt1711425|   21 &amp; Over|         notalk|    notalk|  FAIL| 1.3E7|25682380| 42195766|2013FAIL|      1.3E7|     25682380|     42195766|          1|          1| 1013|\n",
      "|2012|tt1343727|        Dredd 3D|    ok-disagree|        ok|  PASS| 4.5E7|13414714| 40868994|2012PASS|4.5658735E7|     13611086|     41467257|          1|          1| 1012|\n",
      "|2013|tt2024544|12 Years a Slave|notalk-disagree|    notalk|  FAIL| 2.0E7|53107035|158607035|2013FAIL|      2.0E7|     53107035|    158607035|          1|          1| 1013|\n",
      "+----+---------+----------------+---------------+----------+------+------+--------+---------+--------+-----------+-------------+-------------+-----------+-----------+-----+\n",
      "only showing top 3 rows\n",
      "\n"
     ]
    }
   ],
   "source": [
    "#2. How to add a new column.\n",
    "df.withColumn(\"year2\",df.year-1000).show(3)"
   ]
  },
  {
   "cell_type": "code",
   "execution_count": 11,
   "metadata": {},
   "outputs": [
    {
     "name": "stdout",
     "output_type": "stream",
     "text": [
      "['this_year', 'imdb', 'title', 'test', 'clean_test', 'binary', 'budget', 'domgross', 'intgross', 'code', 'budget_2013', 'domgross_2013', 'intgross_2013', 'period_code', 'decade_code']\n"
     ]
    }
   ],
   "source": [
    "#3. How to rename a column.\n",
    "print(df.withColumnRenamed(\"year\",\"this_year\").columns)"
   ]
  },
  {
   "cell_type": "code",
   "execution_count": 19,
   "metadata": {},
   "outputs": [
    {
     "name": "stdout",
     "output_type": "stream",
     "text": [
      "2013\n",
      "1970\n",
      "2002.552396878484\n"
     ]
    }
   ],
   "source": [
    "#4. How to find the max, min, avg of a column in that DF\n",
    "print(df.agg({'year':'max'}).collect()[0][0])\n",
    "print(df.agg({'year':'min'}).collect()[0][0])\n",
    "print(df.agg({'year':'avg'}).collect()[0][0])"
   ]
  },
  {
   "cell_type": "code",
   "execution_count": null,
   "metadata": {},
   "outputs": [],
   "source": []
  },
  {
   "cell_type": "code",
   "execution_count": null,
   "metadata": {},
   "outputs": [],
   "source": []
  }
 ],
 "metadata": {
  "kernelspec": {
   "display_name": "Python 3",
   "language": "python",
   "name": "python3"
  },
  "language_info": {
   "codemirror_mode": {
    "name": "ipython",
    "version": 3
   },
   "file_extension": ".py",
   "mimetype": "text/x-python",
   "name": "python",
   "nbconvert_exporter": "python",
   "pygments_lexer": "ipython3",
   "version": "3.7.4"
  }
 },
 "nbformat": 4,
 "nbformat_minor": 2
}
