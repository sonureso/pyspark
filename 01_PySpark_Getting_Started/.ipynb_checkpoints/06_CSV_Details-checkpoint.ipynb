{
 "cells": [
  {
   "cell_type": "code",
   "execution_count": 2,
   "metadata": {},
   "outputs": [],
   "source": [
    "!pip install -q findspark\n",
    "\n",
    "import findspark\n",
    "findspark.init()\n",
    "\n",
    "from pyspark.sql import SparkSession\n",
    "spark = SparkSession.builder.master(\"local[*]\").getOrCreate()"
   ]
  },
  {
   "cell_type": "code",
   "execution_count": 82,
   "metadata": {},
   "outputs": [
    {
     "name": "stdout",
     "output_type": "stream",
     "text": [
      "['year', 'imdb', 'title', 'test', 'binary', 'budget', 'code', 'period code']\n",
      "['year', 'imdb', 'title', 'test', 'binary', 'budget', 'code', 'period code']\n"
     ]
    }
   ],
   "source": [
    "df1=spark.read.csv(\"csv_files/file_1.csv\",header=True,sep=\",\",inferSchema=True)\n",
    "print(df1.columns)\n",
    "\n",
    "df2=spark.read.csv(\"csv_files/file_2.csv\",header=True,sep=\",\",inferSchema=True)\n",
    "print(df2.columns)"
   ]
  },
  {
   "cell_type": "markdown",
   "metadata": {},
   "source": [
    "### 01_Desc_one file"
   ]
  },
  {
   "cell_type": "code",
   "execution_count": 70,
   "metadata": {},
   "outputs": [],
   "source": [
    "def desc(df):\n",
    "    cols = df.columns\n",
    "    print(\"Total Rows: \",df[cols].count())\n",
    "    print(\"Distinct Rows: \",df[cols].distinct().count())\n",
    "    temp = df.groupBy(cols).count().filter(\"count > 1\")\n",
    "    print(\"Duplicate Rows: \",temp.count())\n",
    "    temp.show()"
   ]
  },
  {
   "cell_type": "code",
   "execution_count": 92,
   "metadata": {},
   "outputs": [
    {
     "name": "stdout",
     "output_type": "stream",
     "text": [
      "Total Rows:  7\n",
      "Distinct Rows:  4\n",
      "Duplicate Rows:  1\n",
      "+----+---------+-----+----+------+--------+--------+-----------+-----+\n",
      "|year|     imdb|title|test|binary|  budget|    code|period code|count|\n",
      "+----+---------+-----+----+------+--------+--------+-----------+-----+\n",
      "|2013|tt0453562|   42| men|  FAIL|40000000|2013FAIL|          1|    4|\n",
      "+----+---------+-----+----+------+--------+--------+-----------+-----+\n",
      "\n",
      "Total Rows:  4\n",
      "Distinct Rows:  4\n",
      "Duplicate Rows:  0\n",
      "+----+----+-----+----+------+------+----+-----------+-----+\n",
      "|year|imdb|title|test|binary|budget|code|period code|count|\n",
      "+----+----+-----+----+------+------+----+-----------+-----+\n",
      "+----+----+-----+----+------+------+----+-----------+-----+\n",
      "\n"
     ]
    }
   ],
   "source": [
    "desc(df1)\n",
    "desc(df2)"
   ]
  },
  {
   "cell_type": "markdown",
   "metadata": {},
   "source": [
    "### 02_Compare_Two_Files"
   ]
  },
  {
   "cell_type": "code",
   "execution_count": 93,
   "metadata": {},
   "outputs": [],
   "source": [
    "def compare(df1,df2,cols):\n",
    "    print(\"Checking...\")\n",
    "    df1_count = df1[cols].count()\n",
    "    df2_count = df2[cols].count()\n",
    "    df1_d_count = df1[cols].distinct().count()\n",
    "    df2_d_count = df2[cols].distinct().count()\n",
    "    df1m2 = df1[cols].subtract(df2[cols])\n",
    "    df2m1 = df2[cols].subtract(df1[cols])\n",
    "    common = df1[cols].subtract(df1m2[cols])\n",
    "    df1m2_count = df1m2[cols].count()\n",
    "    df2m1_count = df2m1[cols].count()\n",
    "    common_count = common[cols].count()\n",
    "    print(\"--\"*15)\n",
    "    print(\"df1: \",df1_count,\" records | \",df1_d_count,\" distinct records.\")\n",
    "    print(\"df2: \",df2_count,\" records | \",df2_d_count,\" distinct records.\")\n",
    "    print(\"Records Only in df1: \",df1m2_count)\n",
    "    print(\"Records Only in df2: \",df2m1_count)\n",
    "    print(\"Common Records: \",common_count)\n",
    "    print(\"Correctness Check: \",df1m2_count+df2m1_count+2*common_count,\"=\",df1_d_count+df2_d_count)"
   ]
  },
  {
   "cell_type": "code",
   "execution_count": 99,
   "metadata": {},
   "outputs": [
    {
     "name": "stdout",
     "output_type": "stream",
     "text": [
      "Checking...\n",
      "------------------------------\n",
      "df1:  7  records |  4  distinct records.\n",
      "df2:  4  records |  4  distinct records.\n",
      "Records Only in df1:  1\n",
      "Records Only in df2:  1\n",
      "Common Records:  3\n",
      "Correctness Check:  8 = 8\n"
     ]
    }
   ],
   "source": [
    "cols = ['imdb']\n",
    "compare(df1,df2,cols)"
   ]
  },
  {
   "cell_type": "code",
   "execution_count": null,
   "metadata": {},
   "outputs": [],
   "source": []
  },
  {
   "cell_type": "code",
   "execution_count": null,
   "metadata": {},
   "outputs": [],
   "source": []
  },
  {
   "cell_type": "code",
   "execution_count": null,
   "metadata": {},
   "outputs": [],
   "source": []
  }
 ],
 "metadata": {
  "kernelspec": {
   "display_name": "Python 3",
   "language": "python",
   "name": "python3"
  },
  "language_info": {
   "codemirror_mode": {
    "name": "ipython",
    "version": 3
   },
   "file_extension": ".py",
   "mimetype": "text/x-python",
   "name": "python",
   "nbconvert_exporter": "python",
   "pygments_lexer": "ipython3",
   "version": "3.7.4"
  }
 },
 "nbformat": 4,
 "nbformat_minor": 2
}
