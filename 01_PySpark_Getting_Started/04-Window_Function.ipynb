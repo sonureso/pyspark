{
 "cells": [
  {
   "cell_type": "markdown",
   "metadata": {},
   "source": [
    "Topics Covered:\n",
    "    1. Using Group by\n",
    "    2. Simple Window function uses\n",
    "    3. Using Order By\n",
    "    4. Using rowsbetween\n",
    "    5. taking only two records in list\n",
    "    6. Using all aggregates with Window function"
   ]
  },
  {
   "cell_type": "code",
   "execution_count": 1,
   "metadata": {},
   "outputs": [],
   "source": [
    "!pip install -q findspark\n",
    "\n",
    "import findspark\n",
    "findspark.init()"
   ]
  },
  {
   "cell_type": "code",
   "execution_count": 4,
   "metadata": {},
   "outputs": [],
   "source": [
    "from pyspark.sql import SparkSession\n",
    "import pyspark.sql.functions as F\n",
    "import pyspark.sql.types as T\n",
    "from pyspark.sql import Window\n",
    "\n",
    "spark = SparkSession.builder.master(\"local[*]\").getOrCreate()"
   ]
  },
  {
   "cell_type": "code",
   "execution_count": 6,
   "metadata": {},
   "outputs": [
    {
     "name": "stdout",
     "output_type": "stream",
     "text": [
      "+---+-----+------+\n",
      "| id| dept|salary|\n",
      "+---+-----+------+\n",
      "|  1|sales|  4200|\n",
      "|  2|admin|  3100|\n",
      "|  3|sales|  4000|\n",
      "|  4|sales|  4000|\n",
      "|  5|admin|  2700|\n",
      "|  6|  dev|  3400|\n",
      "|  7|  dev|  5200|\n",
      "|  8|  dev|  3700|\n",
      "|  9|  dev|  4400|\n",
      "| 10|  dev|  4400|\n",
      "+---+-----+------+\n",
      "\n"
     ]
    }
   ],
   "source": [
    "l = [\n",
    "    (1,\"sales\",4200),\n",
    "    (2,\"admin\",3100),\n",
    "    (3,\"sales\",4000),\n",
    "    (4,\"sales\",4000),\n",
    "    (5,\"admin\",2700),\n",
    "    (6,\"dev\",3400),\n",
    "    (7,\"dev\",5200),\n",
    "    (8,\"dev\",3700),\n",
    "    (9,\"dev\",4400),\n",
    "    (10,\"dev\",4400)\n",
    "]\n",
    "data = spark.createDataFrame(l,schema=[\"id\",\"dept\",\"salary\"])\n",
    "data.show()"
   ]
  },
  {
   "cell_type": "code",
   "execution_count": 7,
   "metadata": {},
   "outputs": [
    {
     "name": "stdout",
     "output_type": "stream",
     "text": [
      "+-----+--------------------+------------------+-----+\n",
      "| dept|         list_salary|               avg|  sum|\n",
      "+-----+--------------------+------------------+-----+\n",
      "|  dev|[3400, 5200, 3700...|            4220.0|21100|\n",
      "|sales|  [4200, 4000, 4000]|4066.6666666666665|12200|\n",
      "|admin|        [3100, 2700]|            2900.0| 5800|\n",
      "+-----+--------------------+------------------+-----+\n",
      "\n"
     ]
    }
   ],
   "source": [
    "#01. Using Group by:\n",
    "df = data.groupBy(\"dept\").agg(\n",
    "    F.expr(\"collect_list(salary)\").alias(\"list_salary\"),\n",
    "    F.expr(\"avg(salary)\").alias(\"avg\"),\n",
    "    F.expr(\"sum(salary)\").alias(\"sum\"))\n",
    "df.show()"
   ]
  },
  {
   "cell_type": "code",
   "execution_count": 14,
   "metadata": {},
   "outputs": [
    {
     "name": "stdout",
     "output_type": "stream",
     "text": [
      "+---+-----+------+--------------------+------------------+\n",
      "| id| dept|salary|         list_salary|               avg|\n",
      "+---+-----+------+--------------------+------------------+\n",
      "|  6|  dev|  3400|[3400, 5200, 3700...|            4220.0|\n",
      "|  7|  dev|  5200|[3400, 5200, 3700...|            4220.0|\n",
      "|  8|  dev|  3700|[3400, 5200, 3700...|            4220.0|\n",
      "|  9|  dev|  4400|[3400, 5200, 3700...|            4220.0|\n",
      "| 10|  dev|  4400|[3400, 5200, 3700...|            4220.0|\n",
      "|  1|sales|  4200|  [4200, 4000, 4000]|4066.6666666666665|\n",
      "|  3|sales|  4000|  [4200, 4000, 4000]|4066.6666666666665|\n",
      "|  4|sales|  4000|  [4200, 4000, 4000]|4066.6666666666665|\n",
      "|  2|admin|  3100|        [3100, 2700]|            2900.0|\n",
      "|  5|admin|  2700|        [3100, 2700]|            2900.0|\n",
      "+---+-----+------+--------------------+------------------+\n",
      "\n"
     ]
    }
   ],
   "source": [
    "#02. Simple Window function uses.\n",
    "windowSpec = Window.partitionBy(\"dept\")\n",
    "df = data.withColumn(\"list_salary\",F.collect_list(F.col(\"salary\")).over(windowSpec))\\\n",
    ".withColumn(\"avg\",F.avg(F.col(\"salary\")).over(windowSpec))\n",
    "\n",
    "df.show()"
   ]
  },
  {
   "cell_type": "code",
   "execution_count": 16,
   "metadata": {},
   "outputs": [
    {
     "name": "stdout",
     "output_type": "stream",
     "text": [
      "+---+-----+------+--------------------+------------------+\n",
      "| id| dept|salary|         list_salary|               avg|\n",
      "+---+-----+------+--------------------+------------------+\n",
      "|  6|  dev|  3400|              [3400]|            3400.0|\n",
      "|  8|  dev|  3700|        [3400, 3700]|            3550.0|\n",
      "|  9|  dev|  4400|[3400, 3700, 4400...|            3975.0|\n",
      "| 10|  dev|  4400|[3400, 3700, 4400...|            3975.0|\n",
      "|  7|  dev|  5200|[3400, 3700, 4400...|            4220.0|\n",
      "|  3|sales|  4000|        [4000, 4000]|            4000.0|\n",
      "|  4|sales|  4000|        [4000, 4000]|            4000.0|\n",
      "|  1|sales|  4200|  [4000, 4000, 4200]|4066.6666666666665|\n",
      "|  5|admin|  2700|              [2700]|            2700.0|\n",
      "|  2|admin|  3100|        [2700, 3100]|            2900.0|\n",
      "+---+-----+------+--------------------+------------------+\n",
      "\n"
     ]
    }
   ],
   "source": [
    "#03. Using Order By:\n",
    "windowSpec = Window.partitionBy(\"dept\").orderBy(F.asc(\"salary\"))\n",
    "df = data.withColumn(\"list_salary\",F.collect_list(F.col(\"salary\")).over(windowSpec))\\\n",
    ".withColumn(\"avg\",F.avg(F.col(\"salary\")).over(windowSpec))\n",
    "\n",
    "df.show()"
   ]
  },
  {
   "cell_type": "code",
   "execution_count": 17,
   "metadata": {},
   "outputs": [
    {
     "name": "stdout",
     "output_type": "stream",
     "text": [
      "+---+-----+------+--------------------+------------------+\n",
      "| id| dept|salary|         list_salary|               avg|\n",
      "+---+-----+------+--------------------+------------------+\n",
      "|  6|  dev|  3400|              [3400]|            3400.0|\n",
      "|  8|  dev|  3700|        [3400, 3700]|            3550.0|\n",
      "|  9|  dev|  4400|  [3400, 3700, 4400]|3833.3333333333335|\n",
      "| 10|  dev|  4400|[3400, 3700, 4400...|            3975.0|\n",
      "|  7|  dev|  5200|[3400, 3700, 4400...|            4220.0|\n",
      "|  3|sales|  4000|              [4000]|            4000.0|\n",
      "|  4|sales|  4000|        [4000, 4000]|            4000.0|\n",
      "|  1|sales|  4200|  [4000, 4000, 4200]|4066.6666666666665|\n",
      "|  5|admin|  2700|              [2700]|            2700.0|\n",
      "|  2|admin|  3100|        [2700, 3100]|            2900.0|\n",
      "+---+-----+------+--------------------+------------------+\n",
      "\n"
     ]
    }
   ],
   "source": [
    "#04. using rowsBetween:\n",
    "windowSpec = Window.partitionBy(\"dept\").orderBy(F.asc(\"salary\")).rowsBetween(Window.unboundedPreceding, Window.currentRow)\n",
    "df = data.withColumn(\"list_salary\",F.collect_list(F.col(\"salary\")).over(windowSpec))\\\n",
    ".withColumn(\"avg\",F.avg(F.col(\"salary\")).over(windowSpec))\n",
    "\n",
    "df.show()"
   ]
  },
  {
   "cell_type": "code",
   "execution_count": 18,
   "metadata": {},
   "outputs": [
    {
     "name": "stdout",
     "output_type": "stream",
     "text": [
      "+---+-----+------+------------+------+\n",
      "| id| dept|salary| list_salary|   avg|\n",
      "+---+-----+------+------------+------+\n",
      "|  6|  dev|  3400|      [3400]|3400.0|\n",
      "|  8|  dev|  3700|[3400, 3700]|3550.0|\n",
      "|  9|  dev|  4400|[3700, 4400]|4050.0|\n",
      "| 10|  dev|  4400|[4400, 4400]|4400.0|\n",
      "|  7|  dev|  5200|[4400, 5200]|4800.0|\n",
      "|  3|sales|  4000|      [4000]|4000.0|\n",
      "|  4|sales|  4000|[4000, 4000]|4000.0|\n",
      "|  1|sales|  4200|[4000, 4200]|4100.0|\n",
      "|  5|admin|  2700|      [2700]|2700.0|\n",
      "|  2|admin|  3100|[2700, 3100]|2900.0|\n",
      "+---+-----+------+------------+------+\n",
      "\n"
     ]
    }
   ],
   "source": [
    "#05. taking only two records in list:\n",
    "windowSpec = Window.partitionBy(\"dept\").orderBy(F.asc(\"salary\")).rowsBetween(-1,Window.currentRow)\n",
    "\n",
    "df = data.withColumn(\"list_salary\",F.collect_list(F.col(\"salary\")).over(windowSpec))\\\n",
    ".withColumn(\"avg\",F.avg(F.col(\"salary\")).over(windowSpec))\n",
    "\n",
    "df.show()"
   ]
  },
  {
   "cell_type": "code",
   "execution_count": 19,
   "metadata": {},
   "outputs": [
    {
     "name": "stdout",
     "output_type": "stream",
     "text": [
      "+---+-----+------+------------------+-----+----+----------+------------+\n",
      "| id| dept|salary|        avg_salary|total|rank|dense_rank|percent_rank|\n",
      "+---+-----+------+------------------+-----+----+----------+------------+\n",
      "|  6|  dev|  3400|            3400.0| 3400|   1|         1|         0.0|\n",
      "|  8|  dev|  3700|            3550.0| 7100|   2|         2|        0.25|\n",
      "|  9|  dev|  4400|            3975.0|15900|   3|         3|         0.5|\n",
      "| 10|  dev|  4400|            3975.0|15900|   3|         3|         0.5|\n",
      "|  7|  dev|  5200|            4220.0|21100|   5|         4|         1.0|\n",
      "|  3|sales|  4000|            4000.0| 8000|   1|         1|         0.0|\n",
      "|  4|sales|  4000|            4000.0| 8000|   1|         1|         0.0|\n",
      "|  1|sales|  4200|4066.6666666666665|12200|   3|         2|         1.0|\n",
      "|  5|admin|  2700|            2700.0| 2700|   1|         1|         0.0|\n",
      "|  2|admin|  3100|            2900.0| 5800|   2|         2|         1.0|\n",
      "+---+-----+------+------------------+-----+----+----------+------------+\n",
      "\n"
     ]
    }
   ],
   "source": [
    "#06. Using all aggregates.\n",
    "windowSpec = Window.partitionBy(\"dept\").orderBy(F.asc(\"salary\"))\n",
    "\n",
    "df = (\n",
    "    data.withColumn(\"avg_salary\",F.avg(F.col(\"salary\")).over(windowSpec))\n",
    "    .withColumn(\"total\",F.sum(F.col(\"salary\")).over(windowSpec))\n",
    "    .withColumn(\"rank\",F.rank().over(windowSpec))\n",
    "    .withColumn(\"dense_rank\",F.dense_rank().over(windowSpec))\n",
    "    .withColumn(\"percent_rank\",F.percent_rank().over(windowSpec))\n",
    ")\n",
    "df.show()"
   ]
  }
 ],
 "metadata": {
  "kernelspec": {
   "display_name": "Python 3",
   "language": "python",
   "name": "python3"
  },
  "language_info": {
   "codemirror_mode": {
    "name": "ipython",
    "version": 3
   },
   "file_extension": ".py",
   "mimetype": "text/x-python",
   "name": "python",
   "nbconvert_exporter": "python",
   "pygments_lexer": "ipython3",
   "version": "3.7.4"
  }
 },
 "nbformat": 4,
 "nbformat_minor": 2
}
